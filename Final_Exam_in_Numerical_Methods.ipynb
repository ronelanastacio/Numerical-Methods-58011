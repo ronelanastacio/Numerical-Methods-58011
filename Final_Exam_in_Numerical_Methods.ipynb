{
  "nbformat": 4,
  "nbformat_minor": 0,
  "metadata": {
    "colab": {
      "name": "Final Exam in Numerical Methods.ipynb",
      "provenance": [],
      "authorship_tag": "ABX9TyMSu9OiEjTR1UDiakEIbDmW",
      "include_colab_link": true
    },
    "kernelspec": {
      "name": "python3",
      "display_name": "Python 3"
    },
    "language_info": {
      "name": "python"
    }
  },
  "cells": [
    {
      "cell_type": "markdown",
      "metadata": {
        "id": "view-in-github",
        "colab_type": "text"
      },
      "source": [
        "<a href=\"https://colab.research.google.com/github/roneljr/Numerical-Methods-58011/blob/main/Final_Exam_in_Numerical_Methods.ipynb\" target=\"_parent\"><img src=\"https://colab.research.google.com/assets/colab-badge.svg\" alt=\"Open In Colab\"/></a>"
      ]
    },
    {
      "cell_type": "markdown",
      "source": [
        "##Problem 3"
      ],
      "metadata": {
        "id": "YMUfoVYayWZa"
      }
    },
    {
      "cell_type": "code",
      "execution_count": 8,
      "metadata": {
        "colab": {
          "base_uri": "https://localhost:8080/"
        },
        "id": "KyGmIi21yD-b",
        "outputId": "a5a760f0-9ee3-43cd-df73-05dd9a9913a7"
      },
      "outputs": [
        {
          "output_type": "stream",
          "name": "stdout",
          "text": [
            "Integral = 2.1731\n"
          ]
        }
      ],
      "source": [
        "from math import exp\n",
        "def f(x): return exp(x) #define the trigonometric function\n",
        "\n",
        "a = -1\n",
        "b = 1\n",
        "n = 10\n",
        "h = (b-a)/n #Width of the trapezoid\n",
        "S = h * (f(a)+f(b)) #starting value of summation\n",
        "\n",
        "for i in range (1,n):\n",
        "    S += f(a+i*h)\n",
        "Integral = S*h\n",
        "print ('Integral = %0.4f' %Integral)"
      ]
    }
  ]
}